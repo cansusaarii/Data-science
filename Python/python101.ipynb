{
 "cells": [
  {
   "cell_type": "markdown",
   "id": "23c8b703-acf0-4238-955c-22d96871cafa",
   "metadata": {},
   "source": [
    "**data types**"
   ]
  },
  {
   "cell_type": "code",
   "execution_count": 1,
   "id": "cf163283-02db-4a6c-8025-2466f3cebe04",
   "metadata": {},
   "outputs": [
    {
     "data": {
      "text/plain": [
       "int"
      ]
     },
     "execution_count": 1,
     "metadata": {},
     "output_type": "execute_result"
    }
   ],
   "source": [
    "x= 9\n",
    "type(x)"
   ]
  },
  {
   "cell_type": "code",
   "execution_count": 3,
   "id": "b55dbaa4-7d6b-471b-beab-a25eda415025",
   "metadata": {},
   "outputs": [
    {
     "data": {
      "text/plain": [
       "str"
      ]
     },
     "execution_count": 3,
     "metadata": {},
     "output_type": "execute_result"
    }
   ],
   "source": [
    "x=\"turkcell\"\n",
    "type(x)"
   ]
  },
  {
   "cell_type": "code",
   "execution_count": 5,
   "id": "e6c099c0-4a50-421e-a18d-240927f1e30f",
   "metadata": {},
   "outputs": [
    {
     "data": {
      "text/plain": [
       "float"
      ]
     },
     "execution_count": 5,
     "metadata": {},
     "output_type": "execute_result"
    }
   ],
   "source": [
    "x=9.2\n",
    "type(x)"
   ]
  },
  {
   "cell_type": "markdown",
   "id": "a89c792c-cbbf-4190-9c55-eed519fa06d2",
   "metadata": {},
   "source": [
    "**string methods**"
   ]
  },
  {
   "cell_type": "code",
   "execution_count": 7,
   "id": "dfefa76f-75bc-4ace-90e5-8be2cf9e7815",
   "metadata": {},
   "outputs": [
    {
     "data": {
      "text/plain": [
       "17"
      ]
     },
     "execution_count": 7,
     "metadata": {},
     "output_type": "execute_result"
    }
   ],
   "source": [
    "x=\"gelecegi_yazanlar\"\n",
    "len(x)"
   ]
  },
  {
   "cell_type": "code",
   "execution_count": 11,
   "id": "875915b3-365d-47ac-b369-370d37b95166",
   "metadata": {},
   "outputs": [
    {
     "data": {
      "text/plain": [
       "'GELECEGI_YAZANLAR'"
      ]
     },
     "execution_count": 11,
     "metadata": {},
     "output_type": "execute_result"
    }
   ],
   "source": [
    "x.upper()"
   ]
  },
  {
   "cell_type": "code",
   "execution_count": 13,
   "id": "e68b6c7f-41bb-4d92-89c5-295062838b22",
   "metadata": {},
   "outputs": [
    {
     "data": {
      "text/plain": [
       "'gelecegi_yazanlar'"
      ]
     },
     "execution_count": 13,
     "metadata": {},
     "output_type": "execute_result"
    }
   ],
   "source": [
    "x.lower()"
   ]
  },
  {
   "cell_type": "code",
   "execution_count": 15,
   "id": "d003ef11-9194-4f42-8069-356211f7b507",
   "metadata": {},
   "outputs": [
    {
     "data": {
      "text/plain": [
       "True"
      ]
     },
     "execution_count": 15,
     "metadata": {},
     "output_type": "execute_result"
    }
   ],
   "source": [
    "x.islower()"
   ]
  },
  {
   "cell_type": "code",
   "execution_count": 17,
   "id": "1871a412-d636-47c4-97f6-8cd8962e5885",
   "metadata": {},
   "outputs": [
    {
     "data": {
      "text/plain": [
       "'galacagi_yazanlar'"
      ]
     },
     "execution_count": 17,
     "metadata": {},
     "output_type": "execute_result"
    }
   ],
   "source": [
    "x.replace(\"e\",\"a\")"
   ]
  },
  {
   "cell_type": "code",
   "execution_count": 19,
   "id": "9246cc2d-4d35-497a-acc7-c6d3dd6b8f53",
   "metadata": {},
   "outputs": [
    {
     "data": {
      "text/plain": [
       "'gelecegi_yazanlar'"
      ]
     },
     "execution_count": 19,
     "metadata": {},
     "output_type": "execute_result"
    }
   ],
   "source": [
    "x= \" gelecegi_yazanlar \"\n",
    "x.strip()"
   ]
  },
  {
   "cell_type": "code",
   "execution_count": 21,
   "id": "a31ca16d-3598-40af-afed-ec8fe7b4f81d",
   "metadata": {},
   "outputs": [
    {
     "data": {
      "text/plain": [
       "['__add__',\n",
       " '__class__',\n",
       " '__contains__',\n",
       " '__delattr__',\n",
       " '__dir__',\n",
       " '__doc__',\n",
       " '__eq__',\n",
       " '__format__',\n",
       " '__ge__',\n",
       " '__getattribute__',\n",
       " '__getitem__',\n",
       " '__getnewargs__',\n",
       " '__getstate__',\n",
       " '__gt__',\n",
       " '__hash__',\n",
       " '__init__',\n",
       " '__init_subclass__',\n",
       " '__iter__',\n",
       " '__le__',\n",
       " '__len__',\n",
       " '__lt__',\n",
       " '__mod__',\n",
       " '__mul__',\n",
       " '__ne__',\n",
       " '__new__',\n",
       " '__reduce__',\n",
       " '__reduce_ex__',\n",
       " '__repr__',\n",
       " '__rmod__',\n",
       " '__rmul__',\n",
       " '__setattr__',\n",
       " '__sizeof__',\n",
       " '__str__',\n",
       " '__subclasshook__',\n",
       " 'capitalize',\n",
       " 'casefold',\n",
       " 'center',\n",
       " 'count',\n",
       " 'encode',\n",
       " 'endswith',\n",
       " 'expandtabs',\n",
       " 'find',\n",
       " 'format',\n",
       " 'format_map',\n",
       " 'index',\n",
       " 'isalnum',\n",
       " 'isalpha',\n",
       " 'isascii',\n",
       " 'isdecimal',\n",
       " 'isdigit',\n",
       " 'isidentifier',\n",
       " 'islower',\n",
       " 'isnumeric',\n",
       " 'isprintable',\n",
       " 'isspace',\n",
       " 'istitle',\n",
       " 'isupper',\n",
       " 'join',\n",
       " 'ljust',\n",
       " 'lower',\n",
       " 'lstrip',\n",
       " 'maketrans',\n",
       " 'partition',\n",
       " 'removeprefix',\n",
       " 'removesuffix',\n",
       " 'replace',\n",
       " 'rfind',\n",
       " 'rindex',\n",
       " 'rjust',\n",
       " 'rpartition',\n",
       " 'rsplit',\n",
       " 'rstrip',\n",
       " 'split',\n",
       " 'splitlines',\n",
       " 'startswith',\n",
       " 'strip',\n",
       " 'swapcase',\n",
       " 'title',\n",
       " 'translate',\n",
       " 'upper',\n",
       " 'zfill']"
      ]
     },
     "execution_count": 21,
     "metadata": {},
     "output_type": "execute_result"
    }
   ],
   "source": [
    "dir(x)"
   ]
  },
  {
   "cell_type": "code",
   "execution_count": 23,
   "id": "37e23e66-f92c-4a15-b071-548043309a3d",
   "metadata": {},
   "outputs": [
    {
     "data": {
      "text/plain": [
       "' gelecegi_yazanlar '"
      ]
     },
     "execution_count": 23,
     "metadata": {},
     "output_type": "execute_result"
    }
   ],
   "source": [
    "x.capitalize()"
   ]
  },
  {
   "cell_type": "code",
   "execution_count": 25,
   "id": "4c5758a4-a845-4b53-9c80-0c72cfa7d39b",
   "metadata": {},
   "outputs": [
    {
     "data": {
      "text/plain": [
       "' Gelecegi_Yazanlar '"
      ]
     },
     "execution_count": 25,
     "metadata": {},
     "output_type": "execute_result"
    }
   ],
   "source": [
    "x.title()"
   ]
  },
  {
   "cell_type": "markdown",
   "id": "69dd018d-e3f0-4fda-99ef-2cac466fc6b5",
   "metadata": {},
   "source": [
    "**substring**"
   ]
  },
  {
   "cell_type": "code",
   "execution_count": 30,
   "id": "7e05b1f0-312b-4c2c-aea6-519e1eb3fb33",
   "metadata": {},
   "outputs": [
    {
     "data": {
      "text/plain": [
       "' gel'"
      ]
     },
     "execution_count": 30,
     "metadata": {},
     "output_type": "execute_result"
    }
   ],
   "source": [
    "x[0:4]"
   ]
  }
 ],
 "metadata": {
  "kernelspec": {
   "display_name": "Python 3 (ipykernel)",
   "language": "python",
   "name": "python3"
  },
  "language_info": {
   "codemirror_mode": {
    "name": "ipython",
    "version": 3
   },
   "file_extension": ".py",
   "mimetype": "text/x-python",
   "name": "python",
   "nbconvert_exporter": "python",
   "pygments_lexer": "ipython3",
   "version": "3.11.7"
  }
 },
 "nbformat": 4,
 "nbformat_minor": 5
}
