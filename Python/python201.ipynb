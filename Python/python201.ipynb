{
 "cells": [
  {
   "cell_type": "markdown",
   "id": "5704f69b-c5e0-43b3-8349-08e840ee2355",
   "metadata": {},
   "source": [
    "**data structures**"
   ]
  },
  {
   "cell_type": "markdown",
   "id": "b367340e-a4a2-4b41-b34a-72c7f77017d4",
   "metadata": {},
   "source": [
    "**lists**"
   ]
  },
  {
   "cell_type": "code",
   "execution_count": 3,
   "id": "3ffaab55-413c-42b9-a1bb-67e75706348a",
   "metadata": {},
   "outputs": [
    {
     "data": {
      "text/plain": [
       "list"
      ]
     },
     "execution_count": 3,
     "metadata": {},
     "output_type": "execute_result"
    }
   ],
   "source": [
    "grades = [10,20,30,40]\n",
    "type(grades)"
   ]
  },
  {
   "cell_type": "code",
   "execution_count": 7,
   "id": "968efa92-3cd9-437a-8e62-b4f004b4ef4e",
   "metadata": {},
   "outputs": [
    {
     "data": {
      "text/plain": [
       "4"
      ]
     },
     "execution_count": 7,
     "metadata": {},
     "output_type": "execute_result"
    }
   ],
   "source": [
    "len(grades)"
   ]
  },
  {
   "cell_type": "code",
   "execution_count": 11,
   "id": "50920ce2-329d-4e64-851d-56944e07df97",
   "metadata": {},
   "outputs": [
    {
     "data": {
      "text/plain": [
       "[10, 20, 30]"
      ]
     },
     "execution_count": 11,
     "metadata": {},
     "output_type": "execute_result"
    }
   ],
   "source": [
    "grades[0:3]"
   ]
  },
  {
   "cell_type": "code",
   "execution_count": 13,
   "id": "b61a913c-d9e1-40ce-8f85-172d4a3cdfc6",
   "metadata": {},
   "outputs": [
    {
     "data": {
      "text/plain": [
       "[20, 30, 40]"
      ]
     },
     "execution_count": 13,
     "metadata": {},
     "output_type": "execute_result"
    }
   ],
   "source": [
    "grades[1:]"
   ]
  },
  {
   "cell_type": "code",
   "execution_count": 15,
   "id": "e12bdba7-f677-4168-8d3b-37f6c4c21ec7",
   "metadata": {},
   "outputs": [
    {
     "data": {
      "text/plain": [
       "['a', 'teacher', 'mert', 'false', 10]"
      ]
     },
     "execution_count": 15,
     "metadata": {},
     "output_type": "execute_result"
    }
   ],
   "source": [
    "liste = [\"a\",\"student\",\"mert\",\"false\",10]\n",
    "liste[1] = \"teacher\"\n",
    "liste"
   ]
  },
  {
   "cell_type": "markdown",
   "id": "28e878c0-2a31-4b62-ae38-4329295137de",
   "metadata": {},
   "source": [
    "**append**"
   ]
  },
  {
   "cell_type": "code",
   "execution_count": 18,
   "id": "68765b33-c295-4808-b9f3-741e1661ca06",
   "metadata": {},
   "outputs": [
    {
     "data": {
      "text/plain": [
       "['a', 'teacher', 'mert', 'false', 10, 'student']"
      ]
     },
     "execution_count": 18,
     "metadata": {},
     "output_type": "execute_result"
    }
   ],
   "source": [
    "liste.append(\"student\")\n",
    "liste"
   ]
  },
  {
   "cell_type": "markdown",
   "id": "e88dc7f8-0641-4a74-9b8c-86e09f599d9e",
   "metadata": {},
   "source": [
    "**remove**"
   ]
  },
  {
   "cell_type": "code",
   "execution_count": 20,
   "id": "b974efab-ce81-42f6-a410-908b73a0e741",
   "metadata": {},
   "outputs": [
    {
     "data": {
      "text/plain": [
       "['a', 'teacher', 'mert', 'false', 'student']"
      ]
     },
     "execution_count": 20,
     "metadata": {},
     "output_type": "execute_result"
    }
   ],
   "source": [
    "liste.remove(10)\n",
    "liste"
   ]
  },
  {
   "cell_type": "markdown",
   "id": "2de5d2c5-ec6b-40ac-9985-07d73e0fcac0",
   "metadata": {},
   "source": [
    "**insert**"
   ]
  },
  {
   "cell_type": "code",
   "execution_count": 24,
   "id": "cd366458-ae45-41e4-b133-dbc7a45d83f4",
   "metadata": {},
   "outputs": [
    {
     "data": {
      "text/plain": [
       "['a', 'software', 'teacher', 'mert', 'false', 'student']"
      ]
     },
     "execution_count": 24,
     "metadata": {},
     "output_type": "execute_result"
    }
   ],
   "source": [
    "liste.insert(1,\"software\")\n",
    "liste"
   ]
  },
  {
   "cell_type": "markdown",
   "id": "229c3bca-4e51-4302-972c-c8f524ca0e0e",
   "metadata": {},
   "source": [
    "**pop**"
   ]
  },
  {
   "cell_type": "code",
   "execution_count": 27,
   "id": "584f79e7-3fe7-4ecc-bcc4-2359e0495b61",
   "metadata": {},
   "outputs": [
    {
     "data": {
      "text/plain": [
       "['software', 'teacher', 'mert', 'false', 'student']"
      ]
     },
     "execution_count": 27,
     "metadata": {},
     "output_type": "execute_result"
    }
   ],
   "source": [
    "liste.pop(0)\n",
    "liste"
   ]
  },
  {
   "cell_type": "markdown",
   "id": "41c78465-829c-46ca-b97b-bb75c6d04677",
   "metadata": {},
   "source": [
    "**count**"
   ]
  },
  {
   "cell_type": "code",
   "execution_count": 30,
   "id": "f80e9727-d8eb-42a8-8d1b-69ce1bad956c",
   "metadata": {},
   "outputs": [
    {
     "data": {
      "text/plain": [
       "2"
      ]
     },
     "execution_count": 30,
     "metadata": {},
     "output_type": "execute_result"
    }
   ],
   "source": [
    "liste = [\"a\",\"student\",\"a\",\"mert\",\"false\",10]\n",
    "liste.count(\"a\")"
   ]
  },
  {
   "cell_type": "markdown",
   "id": "673cd06c-43c5-4b03-9264-e42b8cf90991",
   "metadata": {},
   "source": [
    "**index**"
   ]
  },
  {
   "cell_type": "code",
   "execution_count": 33,
   "id": "f1e31a62-80ed-4db2-be95-5fc431f7aa4e",
   "metadata": {},
   "outputs": [
    {
     "data": {
      "text/plain": [
       "3"
      ]
     },
     "execution_count": 33,
     "metadata": {},
     "output_type": "execute_result"
    }
   ],
   "source": [
    "liste.index(\"mert\")"
   ]
  },
  {
   "cell_type": "code",
   "execution_count": 35,
   "id": "f4e1b63b-bec8-489c-b24f-6a98718f84c1",
   "metadata": {},
   "outputs": [
    {
     "data": {
      "text/plain": [
       "[10, 'false', 'mert', 'a', 'student', 'a']"
      ]
     },
     "execution_count": 35,
     "metadata": {},
     "output_type": "execute_result"
    }
   ],
   "source": [
    "liste.reverse()\n",
    "liste"
   ]
  },
  {
   "cell_type": "markdown",
   "id": "8d909c58-66b3-47d8-b276-858283b0c052",
   "metadata": {},
   "source": [
    "**tuples**"
   ]
  },
  {
   "cell_type": "code",
   "execution_count": 41,
   "id": "7c19f567-f24c-4bb5-bc10-700569ef83fd",
   "metadata": {},
   "outputs": [
    {
     "data": {
      "text/plain": [
       "tuple"
      ]
     },
     "execution_count": 41,
     "metadata": {},
     "output_type": "execute_result"
    }
   ],
   "source": [
    "t = (\"ali\",\"veli\",1,2,3.4,[1,2,3])\n",
    "type(t)"
   ]
  },
  {
   "cell_type": "markdown",
   "id": "aab3d446-816e-40c5-910d-001044a89927",
   "metadata": {},
   "source": [
    "**dictionaries**"
   ]
  },
  {
   "cell_type": "code",
   "execution_count": 44,
   "id": "8383bff8-6f22-42b5-b1a1-23c54bf85dfb",
   "metadata": {},
   "outputs": [
    {
     "data": {
      "text/plain": [
       "{'LOG': 'Logistic Regression',\n",
       " 'REG': 'Regression Model',\n",
       " 'CART': 'Classification and Reg'}"
      ]
     },
     "execution_count": 44,
     "metadata": {},
     "output_type": "execute_result"
    }
   ],
   "source": [
    "dict = {\"LOG\":\"Logistic Regression\",\"REG\":\"Regression Model\",\"CART\":\"Classification and Reg\"}\n",
    "dict"
   ]
  },
  {
   "cell_type": "code",
   "execution_count": 46,
   "id": "a2532abc-428f-42f9-ace6-4c610416e52d",
   "metadata": {},
   "outputs": [
    {
     "data": {
      "text/plain": [
       "3"
      ]
     },
     "execution_count": 46,
     "metadata": {},
     "output_type": "execute_result"
    }
   ],
   "source": [
    "len(dict)"
   ]
  },
  {
   "cell_type": "code",
   "execution_count": 48,
   "id": "9aefedb1-7a84-454a-a213-df3262288fe4",
   "metadata": {},
   "outputs": [
    {
     "data": {
      "text/plain": [
       "'Regression Model'"
      ]
     },
     "execution_count": 48,
     "metadata": {},
     "output_type": "execute_result"
    }
   ],
   "source": [
    "dict[\"REG\"]"
   ]
  },
  {
   "cell_type": "code",
   "execution_count": 50,
   "id": "ddfeaebf-1366-4da8-be5a-797f40c962e7",
   "metadata": {},
   "outputs": [
    {
     "data": {
      "text/plain": [
       "{'LOG': 'Logistic Regression',\n",
       " 'REG': 'Multipal Regression',\n",
       " 'CART': 'Classification and Reg'}"
      ]
     },
     "execution_count": 50,
     "metadata": {},
     "output_type": "execute_result"
    }
   ],
   "source": [
    "dict[\"REG\"] = \"Multipal Regression\"\n",
    "dict"
   ]
  },
  {
   "cell_type": "markdown",
   "id": "9262fff3-3bbc-4634-bb2a-69d090b40f51",
   "metadata": {},
   "source": [
    "**sets**"
   ]
  },
  {
   "cell_type": "code",
   "execution_count": 53,
   "id": "c7707fc0-2d4f-4964-aa38-03c6b2707d1f",
   "metadata": {},
   "outputs": [
    {
     "data": {
      "text/plain": [
       "set()"
      ]
     },
     "execution_count": 53,
     "metadata": {},
     "output_type": "execute_result"
    }
   ],
   "source": [
    "s = set()\n",
    "s"
   ]
  },
  {
   "cell_type": "code",
   "execution_count": 55,
   "id": "6ad098ee-5b62-4bfc-b4ae-2f6669fb9570",
   "metadata": {},
   "outputs": [
    {
     "data": {
      "text/plain": [
       "{1, 102, 'Ali', 's'}"
      ]
     },
     "execution_count": 55,
     "metadata": {},
     "output_type": "execute_result"
    }
   ],
   "source": [
    "l = [1,\"s\",102,\"Ali\"]\n",
    "s = set(l)\n",
    "s"
   ]
  },
  {
   "cell_type": "code",
   "execution_count": 57,
   "id": "e0d35faf-df9b-4086-a516-3a4d2b9b2240",
   "metadata": {},
   "outputs": [
    {
     "data": {
      "text/plain": [
       "4"
      ]
     },
     "execution_count": 57,
     "metadata": {},
     "output_type": "execute_result"
    }
   ],
   "source": [
    "len(s)"
   ]
  },
  {
   "cell_type": "code",
   "execution_count": 59,
   "id": "82d2da48-4956-4720-8824-6e0d54d9b6c1",
   "metadata": {},
   "outputs": [
    {
     "data": {
      "text/plain": [
       "{1, 102, 'Ali', 'mert', 's'}"
      ]
     },
     "execution_count": 59,
     "metadata": {},
     "output_type": "execute_result"
    }
   ],
   "source": [
    "s.add(\"mert\")\n",
    "s"
   ]
  },
  {
   "cell_type": "code",
   "execution_count": 61,
   "id": "0cfe121b-ef7d-45c6-8c7b-c0cf3d7e6242",
   "metadata": {},
   "outputs": [
    {
     "data": {
      "text/plain": [
       "{1, 102, 'mert', 's'}"
      ]
     },
     "execution_count": 61,
     "metadata": {},
     "output_type": "execute_result"
    }
   ],
   "source": [
    "s.remove(\"Ali\")\n",
    "s"
   ]
  },
  {
   "cell_type": "markdown",
   "id": "7c1137a7-8404-4e83-832e-0e7a5a3656c1",
   "metadata": {},
   "source": [
    "**difference() \"-\"**\n",
    "**intersection() \"&\"**\n",
    "**union()**\n",
    "**symmetric_difference()**"
   ]
  },
  {
   "cell_type": "code",
   "execution_count": 64,
   "id": "e99d4737-4997-43cd-82f3-93fa87d09a18",
   "metadata": {},
   "outputs": [],
   "source": [
    "set1 = set([1,3,5])\n",
    "set2 = set([1,2,3])"
   ]
  },
  {
   "cell_type": "code",
   "execution_count": 66,
   "id": "1d8f1365-d701-4052-ba93-30e9d99483ff",
   "metadata": {},
   "outputs": [
    {
     "data": {
      "text/plain": [
       "{5}"
      ]
     },
     "execution_count": 66,
     "metadata": {},
     "output_type": "execute_result"
    }
   ],
   "source": [
    "set1.difference(set2)"
   ]
  },
  {
   "cell_type": "code",
   "execution_count": 68,
   "id": "aa0e6f4e-c852-47be-8049-d172df7a7ccd",
   "metadata": {},
   "outputs": [
    {
     "data": {
      "text/plain": [
       "{2, 5}"
      ]
     },
     "execution_count": 68,
     "metadata": {},
     "output_type": "execute_result"
    }
   ],
   "source": [
    "set1.symmetric_difference(set2)"
   ]
  },
  {
   "cell_type": "code",
   "execution_count": 70,
   "id": "7327d354-79fa-418d-9ceb-6ad00702fdb1",
   "metadata": {},
   "outputs": [
    {
     "data": {
      "text/plain": [
       "{1, 3}"
      ]
     },
     "execution_count": 70,
     "metadata": {},
     "output_type": "execute_result"
    }
   ],
   "source": [
    "set1.intersection(set2)"
   ]
  },
  {
   "cell_type": "code",
   "execution_count": 72,
   "id": "2944a226-2a5c-4664-9e9b-693a3b2048d8",
   "metadata": {},
   "outputs": [
    {
     "data": {
      "text/plain": [
       "False"
      ]
     },
     "execution_count": 72,
     "metadata": {},
     "output_type": "execute_result"
    }
   ],
   "source": [
    "set1.isdisjoint(set2)"
   ]
  }
 ],
 "metadata": {
  "kernelspec": {
   "display_name": "Python 3 (ipykernel)",
   "language": "python",
   "name": "python3"
  },
  "language_info": {
   "codemirror_mode": {
    "name": "ipython",
    "version": 3
   },
   "file_extension": ".py",
   "mimetype": "text/x-python",
   "name": "python",
   "nbconvert_exporter": "python",
   "pygments_lexer": "ipython3",
   "version": "3.11.7"
  }
 },
 "nbformat": 4,
 "nbformat_minor": 5
}
