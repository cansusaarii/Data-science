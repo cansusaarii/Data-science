{
 "cells": [
  {
   "cell_type": "markdown",
   "id": "9b64a9f8-c18c-4dc3-a90f-179429adba89",
   "metadata": {},
   "source": [
    "**functions**"
   ]
  },
  {
   "cell_type": "code",
   "execution_count": 4,
   "id": "30ed2d48-aac3-491e-8244-ec581b34f23a",
   "metadata": {},
   "outputs": [
    {
     "name": "stdout",
     "output_type": "stream",
     "text": [
      "a_b\n"
     ]
    },
    {
     "data": {
      "text/plain": [
       "\u001b[1;31mSignature:\u001b[0m \u001b[0mprint\u001b[0m\u001b[1;33m(\u001b[0m\u001b[1;33m*\u001b[0m\u001b[0margs\u001b[0m\u001b[1;33m,\u001b[0m \u001b[0msep\u001b[0m\u001b[1;33m=\u001b[0m\u001b[1;34m' '\u001b[0m\u001b[1;33m,\u001b[0m \u001b[0mend\u001b[0m\u001b[1;33m=\u001b[0m\u001b[1;34m'\\n'\u001b[0m\u001b[1;33m,\u001b[0m \u001b[0mfile\u001b[0m\u001b[1;33m=\u001b[0m\u001b[1;32mNone\u001b[0m\u001b[1;33m,\u001b[0m \u001b[0mflush\u001b[0m\u001b[1;33m=\u001b[0m\u001b[1;32mFalse\u001b[0m\u001b[1;33m)\u001b[0m\u001b[1;33m\u001b[0m\u001b[1;33m\u001b[0m\u001b[0m\n",
       "\u001b[1;31mDocstring:\u001b[0m\n",
       "Prints the values to a stream, or to sys.stdout by default.\n",
       "\n",
       "sep\n",
       "  string inserted between values, default a space.\n",
       "end\n",
       "  string appended after the last value, default a newline.\n",
       "file\n",
       "  a file-like object (stream); defaults to the current sys.stdout.\n",
       "flush\n",
       "  whether to forcibly flush the stream.\n",
       "\u001b[1;31mType:\u001b[0m      builtin_function_or_method"
      ]
     },
     "metadata": {},
     "output_type": "display_data"
    }
   ],
   "source": [
    "print(\"a\",\"b\",sep=\"_\")\n",
    "?print"
   ]
  },
  {
   "cell_type": "code",
   "execution_count": 14,
   "id": "6b4b0ea8-c4c3-4588-975f-cafe11a17899",
   "metadata": {},
   "outputs": [
    {
     "name": "stdout",
     "output_type": "stream",
     "text": [
      "Entered number: 3, square of the number: 9\n"
     ]
    }
   ],
   "source": [
    "def square(x):\n",
    "    print(\"Entered number: \"+ str(x)+\", square of the number: \"+str(x**2))\n",
    "\n",
    "square(3)"
   ]
  },
  {
   "cell_type": "code",
   "execution_count": 20,
   "id": "6557ac59-9508-4dfb-ac83-b74cce44eff8",
   "metadata": {},
   "outputs": [
    {
     "name": "stdout",
     "output_type": "stream",
     "text": [
      "12\n"
     ]
    }
   ],
   "source": [
    "def multiplication(x,y):\n",
    "    print(x*y)\n",
    "\n",
    "multiplication(3,4)"
   ]
  },
  {
   "cell_type": "markdown",
   "id": "541d3653-fe33-4b97-9d01-8c90022e6fb2",
   "metadata": {},
   "source": [
    "Python **Global variables** are those which are not defined inside any function and have a global scope whereas **local variables** are those which are defined inside a function and their scope is limited to that function only."
   ]
  },
  {
   "cell_type": "code",
   "execution_count": 31,
   "id": "3726c3b9-5a00-4966-bf9d-0a088f8d81f5",
   "metadata": {},
   "outputs": [
    {
     "name": "stdout",
     "output_type": "stream",
     "text": [
      "str(y) added.\n"
     ]
    },
    {
     "data": {
      "text/plain": [
       "[3]"
      ]
     },
     "execution_count": 31,
     "metadata": {},
     "output_type": "execute_result"
    }
   ],
   "source": [
    "x = []\n",
    "\n",
    "def add_element(y):\n",
    "    x.append(y)\n",
    "    print(\"str(y)\"+ \" added.\")\n",
    "\n",
    "add_element(3)\n",
    "x"
   ]
  },
  {
   "cell_type": "markdown",
   "id": "4f2b08cc-716e-46b2-9001-59ec95a64694",
   "metadata": {},
   "source": [
    "**true/false**"
   ]
  },
  {
   "cell_type": "code",
   "execution_count": 34,
   "id": "cb601357-a892-48c7-88f0-010c523f45bb",
   "metadata": {},
   "outputs": [
    {
     "data": {
      "text/plain": [
       "False"
      ]
     },
     "execution_count": 34,
     "metadata": {},
     "output_type": "execute_result"
    }
   ],
   "source": [
    "x=500\n",
    "x==600"
   ]
  },
  {
   "cell_type": "markdown",
   "id": "3aaa515e-3ebc-41e1-84d4-a6f3ab32239a",
   "metadata": {},
   "source": [
    "**if-elif-else**"
   ]
  },
  {
   "cell_type": "code",
   "execution_count": 37,
   "id": "6b0f6cce-cd82-4731-bea3-bec67a1ca96a",
   "metadata": {},
   "outputs": [
    {
     "name": "stdout",
     "output_type": "stream",
     "text": [
      "income is less than limit.\n"
     ]
    }
   ],
   "source": [
    "limit = 50000\n",
    "income = 35000\n",
    "\n",
    "if income > limit:\n",
    "    print(\"imcome is more than limit.\")\n",
    "else:\n",
    "    print(\"income is less than limit.\")"
   ]
  },
  {
   "cell_type": "markdown",
   "id": "11ab2d57-1951-4738-9f31-f6e1ab10e25a",
   "metadata": {},
   "source": [
    "**FOR Loops**"
   ]
  },
  {
   "cell_type": "code",
   "execution_count": 40,
   "id": "530fcb94-a1e8-4366-962e-ccd6fb26c255",
   "metadata": {},
   "outputs": [
    {
     "name": "stdout",
     "output_type": "stream",
     "text": [
      "ali\n",
      "can\n",
      "derya\n",
      "murat\n",
      "elif\n",
      "yaren\n"
     ]
    }
   ],
   "source": [
    "students = [\"ali\",\"can\",\"derya\",\"murat\",\"elif\",\"yaren\"]\n",
    "for i in students:\n",
    "    print(i)"
   ]
  },
  {
   "cell_type": "code",
   "execution_count": 44,
   "id": "28043dbf-94ba-442d-bd11-e40e29530797",
   "metadata": {},
   "outputs": [
    {
     "name": "stdout",
     "output_type": "stream",
     "text": [
      "1200.0\n",
      "2400.0\n",
      "3600.0\n",
      "48000.0\n",
      "600000.0\n"
     ]
    }
   ],
   "source": [
    "salary = [1000,2000,3000,40000,500000]\n",
    "\n",
    "def cal_salary(x):\n",
    "    print(x*20/100+x)\n",
    "\n",
    "for i in salary:\n",
    "    cal_salary(i)"
   ]
  },
  {
   "cell_type": "markdown",
   "id": "d9184d38-8695-456a-97d8-1c9e34668ee0",
   "metadata": {},
   "source": [
    "In Python, **break** stops a loop once its condition is met, while **continue** skips over the current iteration of a loop and continues to the next iteration based on its condition."
   ]
  },
  {
   "cell_type": "code",
   "execution_count": 46,
   "id": "e11445d9-e71d-46d7-8dac-b45356ef264c",
   "metadata": {},
   "outputs": [
    {
     "name": "stdout",
     "output_type": "stream",
     "text": [
      "1000\n",
      "2000\n",
      "cut\n"
     ]
    }
   ],
   "source": [
    "for i in salary:\n",
    "    if i == 3000:\n",
    "        print(\"cut\")\n",
    "        break\n",
    "    print(i)"
   ]
  },
  {
   "cell_type": "code",
   "execution_count": 49,
   "id": "28839edd-a6fb-4a6a-8241-09f7f69865f4",
   "metadata": {},
   "outputs": [
    {
     "name": "stdout",
     "output_type": "stream",
     "text": [
      "1000\n",
      "2000\n",
      "40000\n",
      "500000\n"
     ]
    }
   ],
   "source": [
    "for i in salary:\n",
    "    if i == 3000:\n",
    "        continue\n",
    "    print(i)"
   ]
  },
  {
   "cell_type": "markdown",
   "id": "f1ad0951-3a9d-4d48-9ffc-eb67bd94320e",
   "metadata": {},
   "source": [
    "**WHILE Loops**"
   ]
  },
  {
   "cell_type": "code",
   "execution_count": 54,
   "id": "16b4c986-6e0a-47a1-83f4-8df69240c1f8",
   "metadata": {},
   "outputs": [
    {
     "name": "stdout",
     "output_type": "stream",
     "text": [
      "1\n",
      "2\n",
      "3\n",
      "4\n",
      "5\n",
      "6\n",
      "7\n",
      "8\n",
      "9\n"
     ]
    }
   ],
   "source": [
    "num = 0\n",
    "while num < 9:\n",
    "    num+=1\n",
    "    print(num)"
   ]
  }
 ],
 "metadata": {
  "kernelspec": {
   "display_name": "Python 3 (ipykernel)",
   "language": "python",
   "name": "python3"
  },
  "language_info": {
   "codemirror_mode": {
    "name": "ipython",
    "version": 3
   },
   "file_extension": ".py",
   "mimetype": "text/x-python",
   "name": "python",
   "nbconvert_exporter": "python",
   "pygments_lexer": "ipython3",
   "version": "3.11.7"
  }
 },
 "nbformat": 4,
 "nbformat_minor": 5
}
