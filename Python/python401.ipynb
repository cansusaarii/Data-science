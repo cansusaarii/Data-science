{
 "cells": [
  {
   "cell_type": "markdown",
   "id": "a2e72130-b570-4935-80a2-4634aac05bd7",
   "metadata": {},
   "source": [
    "**object oriented programming**"
   ]
  },
  {
   "cell_type": "code",
   "execution_count": 2,
   "id": "65ffba84-18ca-49e3-911d-48445a351b28",
   "metadata": {},
   "outputs": [
    {
     "data": {
      "text/plain": [
       "'YES'"
      ]
     },
     "execution_count": 2,
     "metadata": {},
     "output_type": "execute_result"
    }
   ],
   "source": [
    "#class attributes\n",
    "class DataScientist():\n",
    "    dept = \"\"\n",
    "    sql = \"YES\"\n",
    "    experience = 0\n",
    "    language = []\n",
    "\n",
    "DataScientist.sql"
   ]
  },
  {
   "cell_type": "markdown",
   "id": "dab0f33c-22d7-4d17-bf00-5094a2262f42",
   "metadata": {},
   "source": [
    "**instantiation** is a core concept in object-oriented programming. It's the process where you create an instance of a class."
   ]
  },
  {
   "cell_type": "code",
   "execution_count": 5,
   "id": "e828ef4f-d101-49e2-8e1f-322a391c9bb7",
   "metadata": {},
   "outputs": [
    {
     "name": "stdout",
     "output_type": "stream",
     "text": [
      "Cat Name: Fluffy\n",
      "Cat Age: 3\n",
      "Fluffy is meowing!\n"
     ]
    }
   ],
   "source": [
    "class Cat:\n",
    "    def __init__(self, name, age):\n",
    "        self.name = name  \n",
    "        self.age = age    \n",
    "    \n",
    "    def speak(self):\n",
    "        print(f\"{self.name} is meowing!\")\n",
    "\n",
    "cat1 = Cat(\"Fluffy\", 3) \n",
    "\n",
    "print(f\"Cat Name: {cat1.name}\")\n",
    "print(f\"Cat Age: {cat1.age}\")\n",
    "cat1.speak()"
   ]
  },
  {
   "cell_type": "code",
   "execution_count": 9,
   "id": "8889f9bf-03db-4c7c-beee-bda2c741bb61",
   "metadata": {},
   "outputs": [
    {
     "data": {
      "text/plain": [
       "['Ball', 'Mouse', 'Yarn']"
      ]
     },
     "execution_count": 9,
     "metadata": {},
     "output_type": "execute_result"
    }
   ],
   "source": [
    "class Cat:\n",
    "    def __init__(self, name):\n",
    "        self.name = name  \n",
    "        self.toys = []  \n",
    "\n",
    "    def add_toy(self, toy):\n",
    "        self.toys.append(toy)\n",
    "\n",
    "cat1 = Cat(\"Fluffy\")  \n",
    "\n",
    "cat1.add_toy(\"Ball\")\n",
    "cat1.add_toy(\"Mouse\")\n",
    "cat1.add_toy(\"Yarn\")\n",
    "cat1.toys"
   ]
  },
  {
   "cell_type": "markdown",
   "id": "0e50f2bf-b3b6-439c-94c3-71936f9bc2b8",
   "metadata": {},
   "source": [
    "**inheritance** allows us to define a class that inherits all the methods and properties from another class."
   ]
  },
  {
   "cell_type": "code",
   "execution_count": 12,
   "id": "87890597-999e-4a9d-8b62-91cfc6a510c1",
   "metadata": {},
   "outputs": [
    {
     "name": "stdout",
     "output_type": "stream",
     "text": [
      "Data Scientist Details:\n",
      "Name: Alice\n",
      "Position: Data Scientist\n",
      "Salary: $95000\n",
      "Skills: Python, Machine Learning, Data Analysis\n",
      "\n",
      "Marketing Manager Details:\n",
      "Name: Bob\n",
      "Position: Marketing Manager\n",
      "Salary: $75000\n",
      "Campaigns: Product Launch, Social Media Campaigns, Brand Awareness\n"
     ]
    }
   ],
   "source": [
    "#Base Class: Employee\n",
    "class Employee:\n",
    "    def __init__(self, name, position, salary):\n",
    "        self.name = name\n",
    "        self.position = position\n",
    "        self.salary = salary\n",
    "\n",
    "    def show_details(self):\n",
    "        print(f\"Name: {self.name}\")\n",
    "        print(f\"Position: {self.position}\")\n",
    "        print(f\"Salary: ${self.salary}\")\n",
    "\n",
    "#Derived Class: DataScientist\n",
    "class DataScientist(Employee):\n",
    "    def __init__(self, name, salary, skills):\n",
    "        super().__init__(name, \"Data Scientist\", salary) \n",
    "        self.skills = skills\n",
    "\n",
    "    def show_details(self):\n",
    "        super().show_details()\n",
    "        print(f\"Skills: {', '.join(self.skills)}\")\n",
    "\n",
    "#Derived Class: Marketing\n",
    "class Marketing(Employee):\n",
    "    def __init__(self, name, salary, campaigns):\n",
    "        super().__init__(name, \"Marketing Manager\", salary)\n",
    "        self.campaigns = campaigns\n",
    "\n",
    "    def show_details(self):\n",
    "        super().show_details()\n",
    "        print(f\"Campaigns: {', '.join(self.campaigns)}\")\n",
    "\n",
    "# Instantiation\n",
    "employee1 = DataScientist(\"Alice\", 95000, [\"Python\", \"Machine Learning\", \"Data Analysis\"])\n",
    "employee2 = Marketing(\"Bob\", 75000, [\"Product Launch\", \"Social Media Campaigns\", \"Brand Awareness\"])\n",
    "\n",
    "print(\"Data Scientist Details:\")\n",
    "employee1.show_details()\n",
    "\n",
    "print(\"\\nMarketing Manager Details:\")\n",
    "employee2.show_details()"
   ]
  },
  {
   "cell_type": "markdown",
   "id": "b6532c35-4f00-454c-b487-7cb23752e953",
   "metadata": {},
   "source": [
    "**anonymous functions or lambda functions**"
   ]
  },
  {
   "cell_type": "code",
   "execution_count": 15,
   "id": "158c1ab7-c326-4e84-88ba-eb4669c66219",
   "metadata": {},
   "outputs": [
    {
     "name": "stdout",
     "output_type": "stream",
     "text": [
      "8\n"
     ]
    }
   ],
   "source": [
    "add = lambda x, y: x + y\n",
    "\n",
    "result = add(5, 3)\n",
    "print(result) "
   ]
  },
  {
   "cell_type": "markdown",
   "id": "a846460a-7314-48c7-bdf0-813c3f68f402",
   "metadata": {},
   "source": [
    "**vector operations**"
   ]
  },
  {
   "cell_type": "code",
   "execution_count": 23,
   "id": "a63e6020-071e-4261-ac99-4c7541434d43",
   "metadata": {},
   "outputs": [
    {
     "name": "stdout",
     "output_type": "stream",
     "text": [
      "Vector Sum: [5 7 9]\n",
      "Vector Difference: [-3 -3 -3]\n",
      "Scaled Vector: [2 4 6]\n",
      "Dot Product: 32\n",
      "Cross Product: [-3  6 -3]\n"
     ]
    }
   ],
   "source": [
    "import numpy as np\n",
    "\n",
    "vector_a = np.array([1, 2, 3])\n",
    "vector_b = np.array([4, 5, 6])\n",
    "\n",
    "vector_sum = vector_a + vector_b\n",
    "print(\"Vector Sum:\", vector_sum)\n",
    "\n",
    "vector_diff = vector_a - vector_b\n",
    "print(\"Vector Difference:\", vector_diff)\n",
    "\n",
    "scalar = 2\n",
    "vector_scaled = scalar * vector_a\n",
    "print(\"Scaled Vector:\", vector_scaled)\n",
    "\n",
    "dot_product = np.dot(vector_a, vector_b)\n",
    "print(\"Dot Product:\", dot_product)\n",
    "\n",
    "cross_product = np.cross(vector_a, vector_b)\n",
    "print(\"Cross Product:\", cross_product)"
   ]
  },
  {
   "cell_type": "markdown",
   "id": "da01b014-9366-4adc-b91e-baef423d4173",
   "metadata": {},
   "source": [
    "**map functions**"
   ]
  },
  {
   "cell_type": "code",
   "execution_count": 26,
   "id": "6bdf473f-7cfa-4dbf-9c18-3a4cbf00c72c",
   "metadata": {},
   "outputs": [
    {
     "name": "stdout",
     "output_type": "stream",
     "text": [
      "Squared Numbers: [1, 4, 9, 16, 25]\n"
     ]
    }
   ],
   "source": [
    "numbers = [1, 2, 3, 4, 5]\n",
    "\n",
    "squared_numbers = list(map(lambda x: x ** 2, numbers))\n",
    "\n",
    "print(\"Squared Numbers:\", squared_numbers)"
   ]
  },
  {
   "cell_type": "code",
   "execution_count": 30,
   "id": "c2185521-ec29-4882-90bc-b8958b76e491",
   "metadata": {},
   "outputs": [
    {
     "name": "stdout",
     "output_type": "stream",
     "text": [
      "Uppercase Words: ['HELLO', 'WORLD', 'PYTHON', 'IS', 'GREAT']\n"
     ]
    }
   ],
   "source": [
    "words = [\"hello\", \"world\", \"python\", \"is\", \"great\"]\n",
    "\n",
    "uppercase_words = list(map(lambda word: word.upper(), words))\n",
    "\n",
    "print(\"Uppercase Words:\", uppercase_words)"
   ]
  },
  {
   "cell_type": "markdown",
   "id": "f638bd20-fb52-47d4-aff2-6f93a8d5ab99",
   "metadata": {},
   "source": [
    "**exceptions**\n",
    "\n",
    "Exceptions are runtime errors that can be handled to prevent program crashes."
   ]
  },
  {
   "cell_type": "code",
   "execution_count": 35,
   "id": "28cf3892-38c1-436e-9db9-e305272666cd",
   "metadata": {},
   "outputs": [
    {
     "name": "stdout",
     "output_type": "stream",
     "text": [
      "Cannot divide by zero\n"
     ]
    }
   ],
   "source": [
    "try:\n",
    "    x = 10 / 0  \n",
    "except ZeroDivisionError:\n",
    "    print(\"Cannot divide by zero\")"
   ]
  }
 ],
 "metadata": {
  "kernelspec": {
   "display_name": "Python 3 (ipykernel)",
   "language": "python",
   "name": "python3"
  },
  "language_info": {
   "codemirror_mode": {
    "name": "ipython",
    "version": 3
   },
   "file_extension": ".py",
   "mimetype": "text/x-python",
   "name": "python",
   "nbconvert_exporter": "python",
   "pygments_lexer": "ipython3",
   "version": "3.11.7"
  }
 },
 "nbformat": 4,
 "nbformat_minor": 5
}
