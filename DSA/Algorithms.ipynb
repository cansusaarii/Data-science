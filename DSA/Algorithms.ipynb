{
 "cells": [
  {
   "cell_type": "markdown",
   "id": "37eeef8d-3a85-4a36-8057-42d1e0c0f017",
   "metadata": {},
   "source": [
    "### Searching Algorithms ###"
   ]
  },
  {
   "cell_type": "markdown",
   "id": "1de08de2-63be-4ba8-a1af-6ddda3152895",
   "metadata": {},
   "source": [
    "**Linear Search**"
   ]
  },
  {
   "cell_type": "markdown",
   "id": "e520e336-3e04-4bd1-913d-398fcd09d660",
   "metadata": {},
   "source": [
    "Steps:\n",
    "\n",
    "-Start from the first element of the list.\n",
    "\n",
    "-Compare each element of the list with the target value.\n",
    "\n",
    "-If the element matches the target value, return its index.\n",
    "\n",
    "-If the target value is not found after iterating through the entire list, return -1."
   ]
  },
  {
   "cell_type": "code",
   "execution_count": 30,
   "id": "2a9e1ca3-eda5-427d-b7cf-479bfd1442e8",
   "metadata": {},
   "outputs": [
    {
     "name": "stdout",
     "output_type": "stream",
     "text": [
      "Linear search: Target value found at index 4 \n"
     ]
    }
   ],
   "source": [
    "def linear_search(arr,target):\n",
    "    for i in range(len(arr)):\n",
    "        if arr[i] == target:\n",
    "            return i\n",
    "    return -1\n",
    "\n",
    "arr = [2,4,5,6,7,8,9]\n",
    "target = 7\n",
    "result = linear_search(arr,target)\n",
    "if result != -1:\n",
    "    print(f\"Linear search: Target value found at index {result} \")\n",
    "else:\n",
    "    print(\"Linear search: Target value not found\")"
   ]
  },
  {
   "cell_type": "markdown",
   "id": "a1fccb3e-07a9-4714-a484-d820046f6ebe",
   "metadata": {},
   "source": [
    "**Binary Search**"
   ]
  },
  {
   "cell_type": "markdown",
   "id": "c176a1c0-6a8b-489e-b59c-d99c75dc1043",
   "metadata": {},
   "source": [
    "Steps:\n",
    "\n",
    "-Compare x with the middle element.\n",
    "\n",
    "-If x matches with the middle element, we return the mid index.\n",
    "\n",
    "-Else if x is greater than the mid element, then x can only lie in the right (greater) half subarray after the mid element. Then we apply the algorithm again for the right half.\n",
    "\n",
    "-Else if x is smaller, the target x must lie in the left (lower) half. So we apply the algorithm for the left half."
   ]
  },
  {
   "cell_type": "code",
   "execution_count": 32,
   "id": "a09b9bee-1ba0-4972-b8af-4c32267d657e",
   "metadata": {},
   "outputs": [
    {
     "name": "stdout",
     "output_type": "stream",
     "text": [
      "Element is present at index  2\n"
     ]
    }
   ],
   "source": [
    "#Using Recursive\n",
    "\n",
    "def binary_search(arr, low, high, x):\n",
    "    if high >= low:\n",
    "        midd = (high+low)//2\n",
    "        if arr[midd] == x:\n",
    "            return midd\n",
    "        elif arr[midd] > x:\n",
    "            return binary_search(arr, low, midd-1,x)\n",
    "        else:\n",
    "            return binary_search(arr, midd+1, high,x)\n",
    "    else:\n",
    "        return -1\n",
    "\n",
    "array = [2,3,4,10,40,50]\n",
    "x=4\n",
    "result = binary_search(array,0,len(array)-1,x)\n",
    "if result != -1:\n",
    "    print(\"Element is present at index \", str(result))\n",
    "else:\n",
    "    print(\"Element is not present in the array.\")"
   ]
  },
  {
   "cell_type": "code",
   "execution_count": 34,
   "id": "9b1908f0-3273-4378-af8e-070ef43e91e8",
   "metadata": {},
   "outputs": [
    {
     "name": "stdout",
     "output_type": "stream",
     "text": [
      "Element is present at index 3\n"
     ]
    }
   ],
   "source": [
    "#Using Iterative\n",
    "\n",
    "def binary_search(arr,x):\n",
    "    low=0\n",
    "    high=len(arr)-1\n",
    "    midd=0\n",
    "    while low <= high:\n",
    "        midd = (high+low)//2\n",
    "        if arr[midd]<x:  # If x is greater, ignore left half\n",
    "            low = midd+1\n",
    "        elif arr[midd]>x:\n",
    "            high = midd-1   # If x is smaller, ignore right half\n",
    "        else:\n",
    "            return midd\n",
    "\n",
    "arr = [ 2, 3, 4, 10, 40 ]\n",
    "x = 10\n",
    "result = binary_search(arr, x)\n",
    "if result != -1:\n",
    "    print(\"Element is present at index\", str(result))\n",
    "else:\n",
    "    print(\"Element is not present in array\")"
   ]
  },
  {
   "cell_type": "markdown",
   "id": "d8347cb8-8468-4b0a-bb6b-1220fd2a99f3",
   "metadata": {},
   "source": [
    "### Sorting Algorithms ###"
   ]
  },
  {
   "cell_type": "markdown",
   "id": "a9332d24-d1fd-4021-8fae-346802cdda08",
   "metadata": {},
   "source": [
    "**Bubble Sort**"
   ]
  },
  {
   "cell_type": "code",
   "execution_count": 38,
   "id": "9287958e-5f2b-49df-85d2-41450756b9c1",
   "metadata": {},
   "outputs": [
    {
     "name": "stdout",
     "output_type": "stream",
     "text": [
      "Sorted Array is:  [1, 2, 10, 23]\n"
     ]
    }
   ],
   "source": [
    "def bubble_sort(arr):\n",
    "    n=len(arr)\n",
    "    for i in range(n):\n",
    "        for j in range(0,n-i-1):\n",
    "            if arr[j]>arr[j+1]:\n",
    "                 arr[j], arr[j + 1] = arr[j + 1], arr[j]\n",
    "                \n",
    "arr = [ 2, 1, 10, 23 ]\n",
    "bubble_sort(arr)\n",
    "print(\"Sorted Array is: \",arr)"
   ]
  },
  {
   "cell_type": "markdown",
   "id": "7cdf6a7b-a6ff-4702-84aa-bca76b84d43d",
   "metadata": {},
   "source": [
    "**Merge Sort**\n",
    "\n",
    "This algorithm is a divide and conquer master. It splits the array in half, sorts each half individually, and then merges those sorted halves back together into an ordered collection."
   ]
  },
  {
   "cell_type": "code",
   "execution_count": 60,
   "id": "1af9bb4d-ee83-4554-ad70-e372d2a03058",
   "metadata": {},
   "outputs": [
    {
     "name": "stdout",
     "output_type": "stream",
     "text": [
      "[1, 1, 2, 3, 6, 8, 10]\n"
     ]
    }
   ],
   "source": [
    "def merge_sort(arr):\n",
    "    if len(arr) <= 1:\n",
    "        return arr\n",
    "    \n",
    "    mid = len(arr) // 2  # Divide the array into two halves\n",
    "    left_half = arr[:mid]\n",
    "    right_half = arr[mid:]\n",
    "    \n",
    "    left_half = merge_sort(left_half) # Recursively sort each half\n",
    "    right_half = merge_sort(right_half)\n",
    "    \n",
    "    return merge(left_half, right_half)  # Merge the sorted halves\n",
    "\n",
    "def merge(left, right):\n",
    "    result = []\n",
    "    left_idx = 0\n",
    "    right_idx = 0\n",
    "    \n",
    "    # Merge two sorted arrays\n",
    "    while left_idx < len(left) and right_idx < len(right):\n",
    "        if left[left_idx] <= right[right_idx]:\n",
    "            result.append(left[left_idx])\n",
    "            left_idx += 1\n",
    "        else:\n",
    "            result.append(right[right_idx])\n",
    "            right_idx += 1\n",
    "    \n",
    "    result.extend(left[left_idx:])  # Append remaining elements\n",
    "    result.extend(right[right_idx:])\n",
    "    \n",
    "    return result\n",
    "\n",
    "arr = [3, 6, 8, 10, 1, 2, 1]\n",
    "sorted_arr = merge_sort(arr)\n",
    "print(sorted_arr)"
   ]
  },
  {
   "cell_type": "markdown",
   "id": "6784ad03-e781-4b43-8167-d2d06af669ec",
   "metadata": {},
   "source": [
    "**Quick Sort**\n",
    "\n",
    "Quicksort is a divide-and-conquer algorithm that acts as a powered organizer. It picks the “pivot” element from the array and uses it as a dividing line. "
   ]
  },
  {
   "cell_type": "code",
   "execution_count": 55,
   "id": "9a99743e-16b9-4168-bd6d-7fefa00049e7",
   "metadata": {},
   "outputs": [
    {
     "name": "stdout",
     "output_type": "stream",
     "text": [
      "[1, 1, 2, 3, 6, 8, 10]\n"
     ]
    }
   ],
   "source": [
    "def quick_sort(arr):\n",
    "    if len(arr)<=1:\n",
    "        return arr\n",
    "    pivot = arr[len(arr)//2]\n",
    "    left = [x for x in arr if x < pivot]\n",
    "    middle = [x for x in arr if x == pivot]\n",
    "    right = [x for x in arr if x > pivot]\n",
    "    return quick_sort(left) + middle + quick_sort(right)\n",
    "\n",
    "arr = [3, 6, 8, 10, 1, 2, 1]\n",
    "print(quick_sort(arr))"
   ]
  },
  {
   "cell_type": "markdown",
   "id": "0ecdd946-d9b2-4004-a239-774f3579d8a3",
   "metadata": {},
   "source": [
    "### Insert Algorithms ###"
   ]
  },
  {
   "cell_type": "code",
   "execution_count": 42,
   "id": "885fca22-9194-4f28-af7f-6dcda51dabcd",
   "metadata": {},
   "outputs": [
    {
     "name": "stdout",
     "output_type": "stream",
     "text": [
      "[10, 20, 30, 40, 50]\n"
     ]
    }
   ],
   "source": [
    "arr = [10, 20, 30, 40]\n",
    "arr.append(50)\n",
    "print(arr)"
   ]
  },
  {
   "cell_type": "code",
   "execution_count": 44,
   "id": "9f72863d-0ead-402f-a8cd-5d51a8614139",
   "metadata": {},
   "outputs": [
    {
     "name": "stdout",
     "output_type": "stream",
     "text": [
      "[1, 2, 3, 4, 5]\n"
     ]
    }
   ],
   "source": [
    "def sorted_insert(arr, value):\n",
    "    arr.append(value)\n",
    "    arr.sort()\n",
    "\n",
    "arr = [1, 2, 4, 5]\n",
    "sorted_insert(arr, 3)\n",
    "print(arr)"
   ]
  },
  {
   "cell_type": "markdown",
   "id": "eb13c393-3430-449a-8eba-5366f5dbb10b",
   "metadata": {},
   "source": [
    "### Update Algorithms ###"
   ]
  },
  {
   "cell_type": "code",
   "execution_count": 48,
   "id": "746e8b46-7e02-4543-9c3b-579703edecf6",
   "metadata": {},
   "outputs": [
    {
     "name": "stdout",
     "output_type": "stream",
     "text": [
      "{'name': 'John', 'age': 26}\n"
     ]
    }
   ],
   "source": [
    "person = {'name': 'John', 'age': 25}\n",
    "person['age'] = 26\n",
    "print(person)"
   ]
  }
 ],
 "metadata": {
  "kernelspec": {
   "display_name": "Python 3 (ipykernel)",
   "language": "python",
   "name": "python3"
  },
  "language_info": {
   "codemirror_mode": {
    "name": "ipython",
    "version": 3
   },
   "file_extension": ".py",
   "mimetype": "text/x-python",
   "name": "python",
   "nbconvert_exporter": "python",
   "pygments_lexer": "ipython3",
   "version": "3.11.7"
  }
 },
 "nbformat": 4,
 "nbformat_minor": 5
}
