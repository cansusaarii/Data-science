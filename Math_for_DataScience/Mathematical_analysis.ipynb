{
 "cells": [
  {
   "cell_type": "markdown",
   "id": "84216218-ff33-416a-8771-36d84fb405df",
   "metadata": {},
   "source": [
    "### Derivative ###\n",
    "\n",
    "A derivative represents the rate of change of a function with respect to one of its variables. It's a fundamental concept in calculus used to understand how a function changes at any given point.\n",
    "\n",
    "The derivative of a function f(x) with respect to x is represented as f′(x) or df/dx."
   ]
  },
  {
   "cell_type": "code",
   "execution_count": 5,
   "id": "75b60164-8d28-4360-b37b-1806cf9bc666",
   "metadata": {},
   "outputs": [],
   "source": [
    "import numpy as np\n",
    "from sympy import symbols, diff\n",
    "\n",
    "# NumPy and SymPy are both libraries that can deal with mathematics. NumPy operates numerically, while SymPy works with symbolic expressions. "
   ]
  },
  {
   "cell_type": "code",
   "execution_count": 7,
   "id": "c969c412-1306-43c9-a8c5-7be933466de0",
   "metadata": {},
   "outputs": [
    {
     "name": "stdout",
     "output_type": "stream",
     "text": [
      "Derivative of f(x): 2*x + 3\n"
     ]
    }
   ],
   "source": [
    "x = symbols('x')\n",
    "f = x**2 + 3*x + 5\n",
    "derivative = diff(f, x)\n",
    "print(f'Derivative of f(x): {derivative}')"
   ]
  },
  {
   "cell_type": "markdown",
   "id": "53ba6dda-8774-4356-b372-592dfe190d77",
   "metadata": {},
   "source": [
    "### Integral ###\n",
    "\n",
    "An integral is the inverse operation of a derivative. It represents the accumulation of quantities, such as area under a curve. There are two types: indefinite (no limits) and definite (with limits).\n",
    "\n",
    "The indefinite integral of f(x) is represented as ∫f(x)dx, and the definite integral between a and b is ∫ab f(x)dx."
   ]
  },
  {
   "cell_type": "code",
   "execution_count": 11,
   "id": "38885b7a-bf54-4a22-972b-b7011a42c902",
   "metadata": {},
   "outputs": [],
   "source": [
    "from sympy import integrate"
   ]
  },
  {
   "cell_type": "code",
   "execution_count": 13,
   "id": "7c68ef56-0c04-4252-9140-a758e4e2ff4f",
   "metadata": {},
   "outputs": [
    {
     "name": "stdout",
     "output_type": "stream",
     "text": [
      "Indefinite Integral of f(x): x**3/3 + 3*x**2/2 + 5*x\n",
      "Definite Integral of f(x) from 0 to 2: 56/3\n"
     ]
    }
   ],
   "source": [
    "integral = integrate(f, x)  # Indefinite integral\n",
    "print(f'Indefinite Integral of f(x): {integral}')\n",
    "\n",
    "definite_integral = integrate(f, (x, 0, 2))  # Definite integral between 0 and 2\n",
    "print(f'Definite Integral of f(x) from 0 to 2: {definite_integral}')"
   ]
  },
  {
   "cell_type": "markdown",
   "id": "b46d6380-5ee5-4753-b759-a9c9193612d4",
   "metadata": {},
   "source": [
    "### Slope ###\n",
    "\n",
    "The slope of a function at any point represents its steepness, which is simply the value of its derivative at that point. A positive slope means the function is increasing, while a negative slope indicates it is decreasing."
   ]
  },
  {
   "cell_type": "code",
   "execution_count": 16,
   "id": "bfc4727f-5fea-4e77-ba3e-e04ae44fde94",
   "metadata": {},
   "outputs": [
    {
     "name": "stdout",
     "output_type": "stream",
     "text": [
      "Slope at x=1: 5\n"
     ]
    }
   ],
   "source": [
    "slope_at_point = derivative.subs(x, 1)\n",
    "print(f'Slope at x=1: {slope_at_point}')"
   ]
  },
  {
   "cell_type": "markdown",
   "id": "dd7b2d8c-3070-4cc5-ade5-0b8c0c9bf299",
   "metadata": {},
   "source": [
    "### Maxima and Minima ###\n",
    "\n",
    "Maxima and minima are the highest and lowest points on a curve, respectively. To find them, first take the derivative of the function, set it to zero, and solve for x (critical points). The second derivative helps to classify them as maxima or minima."
   ]
  },
  {
   "cell_type": "code",
   "execution_count": 19,
   "id": "f69ededa-a22d-441a-9fbe-ab42c3bb072b",
   "metadata": {},
   "outputs": [],
   "source": [
    "from sympy import solve"
   ]
  },
  {
   "cell_type": "code",
   "execution_count": 21,
   "id": "08f78b63-4f51-4573-b576-5d0eca4b0cda",
   "metadata": {},
   "outputs": [
    {
     "name": "stdout",
     "output_type": "stream",
     "text": [
      "Critical points: [-3/2]\n"
     ]
    }
   ],
   "source": [
    "# First derivative\n",
    "critical_points = solve(derivative, x)\n",
    "print(f'Critical points: {critical_points}')"
   ]
  },
  {
   "cell_type": "code",
   "execution_count": 23,
   "id": "89039043-db27-48b6-8bc1-90311433fa9e",
   "metadata": {},
   "outputs": [
    {
     "name": "stdout",
     "output_type": "stream",
     "text": [
      "-3/2 is a local minimum\n"
     ]
    }
   ],
   "source": [
    "# Second derivative to classify max/min\n",
    "second_derivative = diff(f, x, 2)\n",
    "\n",
    "for point in critical_points:\n",
    "    value = second_derivative.subs(x, point)\n",
    "    if value > 0:\n",
    "        print(f'{point} is a local minimum')\n",
    "    elif value < 0:\n",
    "        print(f'{point} is a local maximum')"
   ]
  }
 ],
 "metadata": {
  "kernelspec": {
   "display_name": "Python 3 (ipykernel)",
   "language": "python",
   "name": "python3"
  },
  "language_info": {
   "codemirror_mode": {
    "name": "ipython",
    "version": 3
   },
   "file_extension": ".py",
   "mimetype": "text/x-python",
   "name": "python",
   "nbconvert_exporter": "python",
   "pygments_lexer": "ipython3",
   "version": "3.11.7"
  }
 },
 "nbformat": 4,
 "nbformat_minor": 5
}
